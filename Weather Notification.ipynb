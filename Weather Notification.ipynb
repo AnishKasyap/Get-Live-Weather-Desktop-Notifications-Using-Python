{
 "cells": [
  {
   "cell_type": "code",
   "execution_count": null,
   "id": "76434194",
   "metadata": {},
   "outputs": [],
   "source": [
    "import requests\n",
    "from bs4 import BeautifulSoup\n",
    "from win10toast import ToastNotifier\n"
   ]
  },
  {
   "cell_type": "code",
   "execution_count": null,
   "id": "8ffa5f9b",
   "metadata": {},
   "outputs": [],
   "source": [
    "n = ToastNotifier()\n"
   ]
  },
  {
   "cell_type": "code",
   "execution_count": null,
   "id": "c32df7de",
   "metadata": {},
   "outputs": [],
   "source": [
    "def getdata(url):\n",
    "\t\n",
    "\tr = requests.get(url)\n",
    "\t\n",
    "\treturn r.text\n"
   ]
  },
  {
   "cell_type": "code",
   "execution_count": null,
   "id": "843fd7f1",
   "metadata": {},
   "outputs": [],
   "source": [
    "htmldata = getdata(\"https://weather.com/en-IN/weather/today/l/304a29c4508c568c8e13bf32c284cac0458f7966d589c282a048044f9eef7d43\")\n",
    "\n",
    "soup = BeautifulSoup(htmldata, 'html.parser')\n",
    "\n",
    "print(soup.prettify())\n"
   ]
  },
  {
   "cell_type": "code",
   "execution_count": null,
   "id": "d7f648d4",
   "metadata": {},
   "outputs": [],
   "source": [
    "current_temp = soup.find_all(\"span\",\n",
    "\t\t\t\t\t\t\tclass_=\" _-_-components-src-organism-CurrentConditions-CurrentConditions--tempValue--MHmYY\")\n",
    "chances_rain = soup.find_all(\"div\",\n",
    "\t\t\t\t\t\t\tclass_= \"_-_-components-src-organism-CurrentConditions-CurrentConditions--precipValue--2aJSf\")\n",
    "\n",
    "temp = (str(current_temp))\n",
    "temp_rain = str(chances_rain)\n",
    "\n",
    "result = \"current_temp \" + temp[128:-9] + \"in chennai\" + \"\\n\" +temp_rain[131:-14]\n"
   ]
  },
  {
   "cell_type": "code",
   "execution_count": null,
   "id": "b428d180",
   "metadata": {},
   "outputs": [],
   "source": [
    "n.show_toast(\"Weather update\", result, duration = 10)\n"
   ]
  },
  {
   "cell_type": "code",
   "execution_count": null,
   "id": "01936c89",
   "metadata": {},
   "outputs": [],
   "source": []
  }
 ],
 "metadata": {
  "kernelspec": {
   "display_name": "Python 3 (ipykernel)",
   "language": "python",
   "name": "python3"
  },
  "language_info": {
   "codemirror_mode": {
    "name": "ipython",
    "version": 3
   },
   "file_extension": ".py",
   "mimetype": "text/x-python",
   "name": "python",
   "nbconvert_exporter": "python",
   "pygments_lexer": "ipython3",
   "version": "3.7.10"
  }
 },
 "nbformat": 4,
 "nbformat_minor": 5
}
